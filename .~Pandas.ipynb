{
 "cells": [
  {
   "cell_type": "code",
   "execution_count": 72,
   "metadata": {},
   "outputs": [],
   "source": [
    "#Q1 Read the provided CSV file ‘data.csv’.\n",
    "import pandas as pd\n",
    "df = pd.read_csv('C:/Users/gowth/Desktop/UCM/ML/Assignment 4/data.csv')"
   ]
  },
  {
   "cell_type": "code",
   "execution_count": 73,
   "metadata": {},
   "outputs": [
    {
     "name": "stdout",
     "output_type": "stream",
     "text": [
      "         Duration       Pulse    Maxpulse     Calories\n",
      "count  169.000000  169.000000  169.000000   164.000000\n",
      "mean    63.846154  107.461538  134.047337   375.790244\n",
      "std     42.299949   14.510259   16.450434   266.379919\n",
      "min     15.000000   80.000000  100.000000    50.300000\n",
      "25%     45.000000  100.000000  124.000000   250.925000\n",
      "50%     60.000000  105.000000  131.000000   318.600000\n",
      "75%     60.000000  111.000000  141.000000   387.600000\n",
      "max    300.000000  159.000000  184.000000  1860.400000\n"
     ]
    }
   ],
   "source": [
    "#Q2 Show the basic statistical description about the data.\n",
    "\n",
    "DataDescription = df.describe()\n",
    "print(DataDescription)"
   ]
  },
  {
   "cell_type": "code",
   "execution_count": 74,
   "metadata": {},
   "outputs": [
    {
     "name": "stdout",
     "output_type": "stream",
     "text": [
      "     Duration  Pulse  Maxpulse  Calories\n",
      "17         45     90       112       NaN\n",
      "27         60    103       132       NaN\n",
      "91         45    107       137       NaN\n",
      "118        60    105       125       NaN\n",
      "141        60     97       127       NaN\n",
      "Empty DataFrame\n",
      "Columns: [Duration, Pulse, Maxpulse, Calories]\n",
      "Index: []\n"
     ]
    }
   ],
   "source": [
    "#Q3 Check if the data has null values and Replace the null values with the mean\n",
    "\n",
    "# Check for null values\n",
    "null_rows = df[df.isnull().any(axis=1)]\n",
    "print(null_rows)\n",
    "\n",
    "# Replace null values in the Calories column with the mean value\n",
    "df['Calories'].fillna(df['Calories'].mean(), inplace=True)\n",
    "\n",
    "# Check for null values again\n",
    "null_rows = df[df.isnull().any(axis=1)]\n",
    "print(null_rows)"
   ]
  },
  {
   "cell_type": "code",
   "execution_count": 65,
   "metadata": {},
   "outputs": [
    {
     "name": "stdout",
     "output_type": "stream",
     "text": [
      "         Duration     Calories\n",
      "min     15.000000    50.300000\n",
      "max    300.000000  1860.400000\n",
      "count  169.000000   169.000000\n",
      "mean    63.846154   375.790244\n"
     ]
    }
   ],
   "source": [
    "#Q4 Select at least two columns and aggregate the data using: min, max, count, mean.\n",
    "\n",
    "# Select two columns and aggregate the data\n",
    "agg_df = df[['Duration', 'Calories']].agg(['min', 'max', 'count', 'mean'])\n",
    "\n",
    "# Display the aggregated data\n",
    "print(agg_df)"
   ]
  },
  {
   "cell_type": "code",
   "execution_count": 75,
   "metadata": {},
   "outputs": [
    {
     "name": "stdout",
     "output_type": "stream",
     "text": [
      "     Duration  Pulse  Maxpulse  Calories\n",
      "51         80    123       146     643.1\n",
      "62        160    109       135     853.0\n",
      "65        180     90       130     800.4\n",
      "66        150    105       135     873.4\n",
      "67        150    107       130     816.0\n",
      "72         90    100       127     700.0\n",
      "73        150     97       127     953.2\n",
      "75         90     98       125     563.2\n",
      "78        120    100       130     500.4\n",
      "83        120    100       130     500.0\n",
      "90        180    101       127     600.1\n",
      "99         90     93       124     604.1\n",
      "101        90     90       110     500.0\n",
      "102        90     90       100     500.0\n",
      "103        90     90       100     500.4\n",
      "106       180     90       120     800.3\n",
      "108        90     90       120     500.3\n"
     ]
    }
   ],
   "source": [
    "#Q5 Filter the dataframe to select the rows with calories values between 500 and 1000.\n",
    "\n",
    "# Filter the DataFrame to select rows with Calories values between 500 and 1000\n",
    "filtered_df = df[(df['Calories'] >= 500) & (df['Calories'] <= 1000)]\n",
    "\n",
    "# Display the filtered DataFrame\n",
    "print(filtered_df)"
   ]
  },
  {
   "cell_type": "code",
   "execution_count": 67,
   "metadata": {},
   "outputs": [
    {
     "name": "stdout",
     "output_type": "stream",
     "text": [
      "     Duration  Pulse  Maxpulse  Calories\n",
      "65        180     90       130     800.4\n",
      "70        150     97       129    1115.0\n",
      "73        150     97       127     953.2\n",
      "75         90     98       125     563.2\n",
      "99         90     93       124     604.1\n",
      "103        90     90       100     500.4\n",
      "106       180     90       120     800.3\n",
      "108        90     90       120     500.3\n"
     ]
    }
   ],
   "source": [
    "#Q6 Filter the dataframe to select the rows with calories values > 500 and pulse < 100\n",
    "\n",
    "# Filter the DataFrame to select rows with Calories values > 500 and Pulse values < 100\n",
    "filtered_df = df[(df['Calories'] > 500) & (df['Pulse'] < 100)]\n",
    "\n",
    "# Display the filtered DataFrame\n",
    "print(filtered_df)"
   ]
  },
  {
   "cell_type": "code",
   "execution_count": 68,
   "metadata": {},
   "outputs": [
    {
     "name": "stdout",
     "output_type": "stream",
     "text": [
      "     Duration  Pulse  Calories\n",
      "0          60    110     409.1\n",
      "1          60    117     479.0\n",
      "2          60    103     340.0\n",
      "3          45    109     282.4\n",
      "4          45    117     406.0\n",
      "..        ...    ...       ...\n",
      "164        60    105     290.8\n",
      "165        60    110     300.0\n",
      "166        60    115     310.2\n",
      "167        75    120     320.4\n",
      "168        75    125     330.4\n",
      "\n",
      "[169 rows x 3 columns]\n"
     ]
    }
   ],
   "source": [
    "#Q7 Create a new “df_modified” dataframe that contains all the columns from df except for “Maxpulse”\n",
    "\n",
    "# Create a new DataFrame with all columns except Maxpulse\n",
    "df_modified = df.drop('Maxpulse', axis=1)\n",
    "\n",
    "# Display the modified DataFrame\n",
    "print(df_modified)"
   ]
  },
  {
   "cell_type": "code",
   "execution_count": 76,
   "metadata": {},
   "outputs": [
    {
     "name": "stdout",
     "output_type": "stream",
     "text": [
      "     Duration  Pulse  Calories\n",
      "0          60    110     409.1\n",
      "1          60    117     479.0\n",
      "2          60    103     340.0\n",
      "3          45    109     282.4\n",
      "4          45    117     406.0\n",
      "..        ...    ...       ...\n",
      "164        60    105     290.8\n",
      "165        60    110     300.0\n",
      "166        60    115     310.2\n",
      "167        75    120     320.4\n",
      "168        75    125     330.4\n",
      "\n",
      "[169 rows x 3 columns]\n"
     ]
    }
   ],
   "source": [
    "#Q8 Delete the “Maxpulse” column from the main df dataframe\n",
    "\n",
    "# Delete the Maxpulse column from the main DataFrame\n",
    "df.drop('Maxpulse', axis=1, inplace=True)\n",
    "\n",
    "# Display the modified DataFrame\n",
    "print(df)"
   ]
  },
  {
   "cell_type": "code",
   "execution_count": 77,
   "metadata": {},
   "outputs": [
    {
     "name": "stdout",
     "output_type": "stream",
     "text": [
      "     Duration  Pulse  Calories\n",
      "0          60    110       409\n",
      "1          60    117       479\n",
      "2          60    103       340\n",
      "3          45    109       282\n",
      "4          45    117       406\n",
      "..        ...    ...       ...\n",
      "164        60    105       290\n",
      "165        60    110       300\n",
      "166        60    115       310\n",
      "167        75    120       320\n",
      "168        75    125       330\n",
      "\n",
      "[169 rows x 3 columns]\n"
     ]
    }
   ],
   "source": [
    "#Q9 Convert the datatype of Calories column to int datatype.\n",
    "\n",
    "# Convert the data type of the Calories column from float to int\n",
    "df['Calories'] = df['Calories'].astype(int)\n",
    "\n",
    "# Display the modified DataFrame\n",
    "print(df)"
   ]
  },
  {
   "cell_type": "code",
   "execution_count": 71,
   "metadata": {},
   "outputs": [
    {
     "data": {
      "image/png": "[encoded data removed]",
      "text/plain": [
       "<Figure size 432x288 with 1 Axes>"
      ]
     },
     "metadata": {
      "needs_background": "light"
     },
     "output_type": "display_data"
    }
   ],
   "source": [
    "#Q10 Using pandas create a scatter plot for the two columns (Duration and Calories).\n",
    "\n",
    "import pandas as pd\n",
    "import matplotlib.pyplot as plt\n",
    "\n",
    "# Load the CSV file\n",
    "df = pd.read_csv('C:/Users/gowth/Desktop/UCM/ML/Assignment 4/data.csv')\n",
    "\n",
    "# Create a scatter plot of the Duration and Calories columns\n",
    "df.plot(kind='scatter', x='Duration', y='Calories')\n",
    "\n",
    "# Show the plot\n",
    "plt.show()\n"
   ]
  },
  {
   "cell_type": "code",
   "execution_count": null,
   "metadata": {},
   "outputs": [],
   "source": []
  }
 ],
 "metadata": {
  "kernelspec": {
   "display_name": "Python 3",
   "language": "python",
   "name": "python3"
  },
  "language_info": {
   "codemirror_mode": {
    "name": "ipython",
    "version": 3
   },
   "file_extension": ".py",
   "mimetype": "text/x-python",
   "name": "python",
   "nbconvert_exporter": "python",
   "pygments_lexer": "ipython3",
   "version": "3.7.4"
  }
 },
 "nbformat": 4,
 "nbformat_minor": 2
}
